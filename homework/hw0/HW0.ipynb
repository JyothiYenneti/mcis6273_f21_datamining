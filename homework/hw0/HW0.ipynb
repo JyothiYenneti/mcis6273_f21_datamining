{
 "cells": [
  {
   "cell_type": "markdown",
   "metadata": {},
   "source": [
    "# 1. use pandas.read_csv() method to load the dataset into a Pandas DataFrame;"
   ]
  },
  {
   "cell_type": "code",
   "execution_count": 9,
   "metadata": {},
   "outputs": [
    {
     "data": {
      "text/html": [
       "<div>\n",
       "<style scoped>\n",
       "    .dataframe tbody tr th:only-of-type {\n",
       "        vertical-align: middle;\n",
       "    }\n",
       "\n",
       "    .dataframe tbody tr th {\n",
       "        vertical-align: top;\n",
       "    }\n",
       "\n",
       "    .dataframe thead th {\n",
       "        text-align: right;\n",
       "    }\n",
       "</style>\n",
       "<table border=\"1\" class=\"dataframe\">\n",
       "  <thead>\n",
       "    <tr style=\"text-align: right;\">\n",
       "      <th></th>\n",
       "      <th>Site_Id</th>\n",
       "      <th>Unit_Id</th>\n",
       "      <th>Read_Date</th>\n",
       "      <th>Salinity (ppt)</th>\n",
       "      <th>Dissolved Oxygen (mg/L)</th>\n",
       "      <th>pH (standard units)</th>\n",
       "      <th>Secchi Depth (m)</th>\n",
       "      <th>Water Depth (m)</th>\n",
       "      <th>Water Temp (?C)</th>\n",
       "      <th>Air Temp-Celsius</th>\n",
       "      <th>Air Temp (?F)</th>\n",
       "      <th>Time (24:00)</th>\n",
       "      <th>Field_Tech</th>\n",
       "      <th>DateVerified</th>\n",
       "      <th>WhoVerified</th>\n",
       "      <th>AirTemp (C)</th>\n",
       "      <th>Year</th>\n",
       "    </tr>\n",
       "  </thead>\n",
       "  <tbody>\n",
       "    <tr>\n",
       "      <th>0</th>\n",
       "      <td>Bay</td>\n",
       "      <td>NaN</td>\n",
       "      <td>1/3/1994</td>\n",
       "      <td>1.3</td>\n",
       "      <td>11.7</td>\n",
       "      <td>7.3</td>\n",
       "      <td>0.40</td>\n",
       "      <td>0.40</td>\n",
       "      <td>5.9</td>\n",
       "      <td>8.0</td>\n",
       "      <td>46.40</td>\n",
       "      <td>11:00</td>\n",
       "      <td>NaN</td>\n",
       "      <td>NaN</td>\n",
       "      <td>NaN</td>\n",
       "      <td>8.0</td>\n",
       "      <td>1994</td>\n",
       "    </tr>\n",
       "    <tr>\n",
       "      <th>1</th>\n",
       "      <td>Bay</td>\n",
       "      <td>NaN</td>\n",
       "      <td>1/31/1994</td>\n",
       "      <td>1.5</td>\n",
       "      <td>12.0</td>\n",
       "      <td>7.4</td>\n",
       "      <td>0.20</td>\n",
       "      <td>0.35</td>\n",
       "      <td>3.0</td>\n",
       "      <td>2.6</td>\n",
       "      <td>36.68</td>\n",
       "      <td>11:30</td>\n",
       "      <td>NaN</td>\n",
       "      <td>NaN</td>\n",
       "      <td>NaN</td>\n",
       "      <td>2.6</td>\n",
       "      <td>1994</td>\n",
       "    </tr>\n",
       "    <tr>\n",
       "      <th>2</th>\n",
       "      <td>Bay</td>\n",
       "      <td>NaN</td>\n",
       "      <td>2/7/1994</td>\n",
       "      <td>1.0</td>\n",
       "      <td>10.5</td>\n",
       "      <td>7.2</td>\n",
       "      <td>0.25</td>\n",
       "      <td>0.60</td>\n",
       "      <td>5.9</td>\n",
       "      <td>7.6</td>\n",
       "      <td>45.68</td>\n",
       "      <td>9:45</td>\n",
       "      <td>NaN</td>\n",
       "      <td>NaN</td>\n",
       "      <td>NaN</td>\n",
       "      <td>7.6</td>\n",
       "      <td>1994</td>\n",
       "    </tr>\n",
       "    <tr>\n",
       "      <th>3</th>\n",
       "      <td>Bay</td>\n",
       "      <td>NaN</td>\n",
       "      <td>2/23/1994</td>\n",
       "      <td>1.0</td>\n",
       "      <td>10.1</td>\n",
       "      <td>7.4</td>\n",
       "      <td>0.35</td>\n",
       "      <td>0.50</td>\n",
       "      <td>10.0</td>\n",
       "      <td>2.7</td>\n",
       "      <td>36.86</td>\n",
       "      <td>NaN</td>\n",
       "      <td>NaN</td>\n",
       "      <td>NaN</td>\n",
       "      <td>NaN</td>\n",
       "      <td>2.7</td>\n",
       "      <td>1994</td>\n",
       "    </tr>\n",
       "    <tr>\n",
       "      <th>4</th>\n",
       "      <td>Bay</td>\n",
       "      <td>NaN</td>\n",
       "      <td>2/28/1994</td>\n",
       "      <td>1.0</td>\n",
       "      <td>12.6</td>\n",
       "      <td>7.2</td>\n",
       "      <td>0.20</td>\n",
       "      <td>0.40</td>\n",
       "      <td>1.6</td>\n",
       "      <td>0.0</td>\n",
       "      <td>32.00</td>\n",
       "      <td>10:30</td>\n",
       "      <td>NaN</td>\n",
       "      <td>NaN</td>\n",
       "      <td>NaN</td>\n",
       "      <td>0.0</td>\n",
       "      <td>1994</td>\n",
       "    </tr>\n",
       "  </tbody>\n",
       "</table>\n",
       "</div>"
      ],
      "text/plain": [
       "  Site_Id Unit_Id  Read_Date  Salinity (ppt)  Dissolved Oxygen (mg/L)  \\\n",
       "0     Bay     NaN   1/3/1994             1.3                     11.7   \n",
       "1     Bay     NaN  1/31/1994             1.5                     12.0   \n",
       "2     Bay     NaN   2/7/1994             1.0                     10.5   \n",
       "3     Bay     NaN  2/23/1994             1.0                     10.1   \n",
       "4     Bay     NaN  2/28/1994             1.0                     12.6   \n",
       "\n",
       "   pH (standard units)  Secchi Depth (m)  Water Depth (m)  Water Temp (?C)  \\\n",
       "0                  7.3              0.40             0.40              5.9   \n",
       "1                  7.4              0.20             0.35              3.0   \n",
       "2                  7.2              0.25             0.60              5.9   \n",
       "3                  7.4              0.35             0.50             10.0   \n",
       "4                  7.2              0.20             0.40              1.6   \n",
       "\n",
       "   Air Temp-Celsius  Air Temp (?F) Time (24:00) Field_Tech DateVerified  \\\n",
       "0               8.0          46.40        11:00        NaN          NaN   \n",
       "1               2.6          36.68        11:30        NaN          NaN   \n",
       "2               7.6          45.68         9:45        NaN          NaN   \n",
       "3               2.7          36.86          NaN        NaN          NaN   \n",
       "4               0.0          32.00        10:30        NaN          NaN   \n",
       "\n",
       "  WhoVerified  AirTemp (C)  Year  \n",
       "0         NaN          8.0  1994  \n",
       "1         NaN          2.6  1994  \n",
       "2         NaN          7.6  1994  \n",
       "3         NaN          2.7  1994  \n",
       "4         NaN          0.0  1994  "
      ]
     },
     "execution_count": 9,
     "metadata": {},
     "output_type": "execute_result"
    }
   ],
   "source": [
    "import pandas as pd\n",
    "dataframe = pd.read_csv(r'C:\\Users\\Kisho\\Desktop\\MCIS\\DataMining\\Homeworks\\HW0\\Jyothi_hw0_files\\BKB_WaterQualityData_2020084 raw csv data.csv')\n",
    "dataframe.head()"
   ]
  },
  {
   "cell_type": "markdown",
   "metadata": {},
   "source": [
    "# 2. clean the data so that the range of years is restricted to the 20 year period from 1999 to 2018"
   ]
  },
  {
   "cell_type": "code",
   "execution_count": 6,
   "metadata": {},
   "outputs": [
    {
     "data": {
      "text/html": [
       "<div>\n",
       "<style scoped>\n",
       "    .dataframe tbody tr th:only-of-type {\n",
       "        vertical-align: middle;\n",
       "    }\n",
       "\n",
       "    .dataframe tbody tr th {\n",
       "        vertical-align: top;\n",
       "    }\n",
       "\n",
       "    .dataframe thead th {\n",
       "        text-align: right;\n",
       "    }\n",
       "</style>\n",
       "<table border=\"1\" class=\"dataframe\">\n",
       "  <thead>\n",
       "    <tr style=\"text-align: right;\">\n",
       "      <th></th>\n",
       "      <th>Site_Id</th>\n",
       "      <th>Unit_Id</th>\n",
       "      <th>Read_Date</th>\n",
       "      <th>Salinity (ppt)</th>\n",
       "      <th>Dissolved Oxygen (mg/L)</th>\n",
       "      <th>pH (standard units)</th>\n",
       "      <th>Secchi Depth (m)</th>\n",
       "      <th>Water Depth (m)</th>\n",
       "      <th>Water Temp (?C)</th>\n",
       "      <th>Air Temp-Celsius</th>\n",
       "      <th>Air Temp (?F)</th>\n",
       "      <th>Time (24:00)</th>\n",
       "      <th>Field_Tech</th>\n",
       "      <th>DateVerified</th>\n",
       "      <th>WhoVerified</th>\n",
       "      <th>AirTemp (C)</th>\n",
       "      <th>Year</th>\n",
       "    </tr>\n",
       "  </thead>\n",
       "  <tbody>\n",
       "    <tr>\n",
       "      <th>2366</th>\n",
       "      <td>Bay</td>\n",
       "      <td>NaN</td>\n",
       "      <td>10/11/2018</td>\n",
       "      <td>1.9</td>\n",
       "      <td>5.0</td>\n",
       "      <td>7.0</td>\n",
       "      <td>4.00</td>\n",
       "      <td>1.2</td>\n",
       "      <td>25.0</td>\n",
       "      <td>NaN</td>\n",
       "      <td>78.0</td>\n",
       "      <td>09:30</td>\n",
       "      <td>Sue Poe</td>\n",
       "      <td>11/13/2019</td>\n",
       "      <td>Christine Folks</td>\n",
       "      <td>25.555556</td>\n",
       "      <td>2018</td>\n",
       "    </tr>\n",
       "    <tr>\n",
       "      <th>2367</th>\n",
       "      <td>Bay</td>\n",
       "      <td>NaN</td>\n",
       "      <td>10/24/2018</td>\n",
       "      <td>0.0</td>\n",
       "      <td>9.0</td>\n",
       "      <td>7.0</td>\n",
       "      <td>0.30</td>\n",
       "      <td>0.6</td>\n",
       "      <td>18.0</td>\n",
       "      <td>NaN</td>\n",
       "      <td>58.0</td>\n",
       "      <td>09:30</td>\n",
       "      <td>Sue Poe</td>\n",
       "      <td>11/13/2019</td>\n",
       "      <td>Christine Folks</td>\n",
       "      <td>14.444444</td>\n",
       "      <td>2018</td>\n",
       "    </tr>\n",
       "    <tr>\n",
       "      <th>2368</th>\n",
       "      <td>Bay</td>\n",
       "      <td>NaN</td>\n",
       "      <td>10/28/2018</td>\n",
       "      <td>0.9</td>\n",
       "      <td>2.9</td>\n",
       "      <td>7.0</td>\n",
       "      <td>0.40</td>\n",
       "      <td>0.9</td>\n",
       "      <td>13.0</td>\n",
       "      <td>NaN</td>\n",
       "      <td>49.0</td>\n",
       "      <td>09:20</td>\n",
       "      <td>Sue Poe</td>\n",
       "      <td>11/13/2019</td>\n",
       "      <td>Christine Folks</td>\n",
       "      <td>9.444444</td>\n",
       "      <td>2018</td>\n",
       "    </tr>\n",
       "    <tr>\n",
       "      <th>2369</th>\n",
       "      <td>Bay</td>\n",
       "      <td>NaN</td>\n",
       "      <td>11/7/2018</td>\n",
       "      <td>1.7</td>\n",
       "      <td>NaN</td>\n",
       "      <td>7.0</td>\n",
       "      <td>0.45</td>\n",
       "      <td>0.9</td>\n",
       "      <td>20.0</td>\n",
       "      <td>NaN</td>\n",
       "      <td>65.0</td>\n",
       "      <td>09:45</td>\n",
       "      <td>Sue Poe</td>\n",
       "      <td>11/13/2019</td>\n",
       "      <td>Christine Folks</td>\n",
       "      <td>18.333333</td>\n",
       "      <td>2018</td>\n",
       "    </tr>\n",
       "    <tr>\n",
       "      <th>2370</th>\n",
       "      <td>Bay</td>\n",
       "      <td>NaN</td>\n",
       "      <td>12/11/2018</td>\n",
       "      <td>0.1</td>\n",
       "      <td>NaN</td>\n",
       "      <td>7.0</td>\n",
       "      <td>0.10</td>\n",
       "      <td>0.1</td>\n",
       "      <td>10.0</td>\n",
       "      <td>NaN</td>\n",
       "      <td>42.0</td>\n",
       "      <td>09:40</td>\n",
       "      <td>Sue Poe</td>\n",
       "      <td>11/13/2019</td>\n",
       "      <td>Christine Folks</td>\n",
       "      <td>5.555556</td>\n",
       "      <td>2018</td>\n",
       "    </tr>\n",
       "  </tbody>\n",
       "</table>\n",
       "</div>"
      ],
      "text/plain": [
       "     Site_Id Unit_Id   Read_Date  Salinity (ppt)  Dissolved Oxygen (mg/L)  \\\n",
       "2366     Bay     NaN  10/11/2018             1.9                      5.0   \n",
       "2367     Bay     NaN  10/24/2018             0.0                      9.0   \n",
       "2368     Bay     NaN  10/28/2018             0.9                      2.9   \n",
       "2369     Bay     NaN   11/7/2018             1.7                      NaN   \n",
       "2370     Bay     NaN  12/11/2018             0.1                      NaN   \n",
       "\n",
       "      pH (standard units)  Secchi Depth (m)  Water Depth (m)  Water Temp (?C)  \\\n",
       "2366                  7.0              4.00              1.2             25.0   \n",
       "2367                  7.0              0.30              0.6             18.0   \n",
       "2368                  7.0              0.40              0.9             13.0   \n",
       "2369                  7.0              0.45              0.9             20.0   \n",
       "2370                  7.0              0.10              0.1             10.0   \n",
       "\n",
       "      Air Temp-Celsius  Air Temp (?F) Time (24:00) Field_Tech DateVerified  \\\n",
       "2366               NaN           78.0        09:30    Sue Poe   11/13/2019   \n",
       "2367               NaN           58.0        09:30    Sue Poe   11/13/2019   \n",
       "2368               NaN           49.0        09:20    Sue Poe   11/13/2019   \n",
       "2369               NaN           65.0        09:45    Sue Poe   11/13/2019   \n",
       "2370               NaN           42.0        09:40    Sue Poe   11/13/2019   \n",
       "\n",
       "          WhoVerified  AirTemp (C)  Year  \n",
       "2366  Christine Folks    25.555556  2018  \n",
       "2367  Christine Folks    14.444444  2018  \n",
       "2368  Christine Folks     9.444444  2018  \n",
       "2369  Christine Folks    18.333333  2018  \n",
       "2370  Christine Folks     5.555556  2018  "
      ]
     },
     "execution_count": 6,
     "metadata": {},
     "output_type": "execute_result"
    }
   ],
   "source": [
    "cleaned_dataframe = dataframe.query('Year >= 1999 and Year <= 2018')\n",
    "cleaned_dataframe.tail()"
   ]
  },
  {
   "cell_type": "markdown",
   "metadata": {},
   "source": [
    "# 3. store the entire dataset back into a new CSV file called back_bay_1998-2018_clean.csv."
   ]
  },
  {
   "cell_type": "code",
   "execution_count": 7,
   "metadata": {},
   "outputs": [
    {
     "name": "stdout",
     "output_type": "stream",
     "text": [
      "Cleaned data saved to \"back_bay_1998-2018_clean.csv\"\n"
     ]
    }
   ],
   "source": [
    "cleaned_dataframe.to_csv('back_bay_1998-2018_clean.csv')\n",
    "print(f'Cleaned data saved to \"back_bay_1998-2018_clean.csv\"')"
   ]
  },
  {
   "cell_type": "markdown",
   "metadata": {},
   "source": [
    "# 4. code for question-1 (How many and what are the names of the columns in this dataset?)"
   ]
  },
  {
   "cell_type": "code",
   "execution_count": 8,
   "metadata": {},
   "outputs": [
    {
     "name": "stdout",
     "output_type": "stream",
     "text": [
      "Dataset contains 17 columns and they are:\n",
      "Site_Id\n",
      "Unit_Id\n",
      "Read_Date\n",
      "Salinity (ppt)\n",
      "Dissolved Oxygen (mg/L)\n",
      "pH (standard units)\n",
      "Secchi Depth (m)\n",
      "Water Depth (m)\n",
      "Water Temp (?C)\n",
      "Air Temp-Celsius\n",
      "Air Temp (?F)\n",
      "Time (24:00)\n",
      "Field_Tech\n",
      "DateVerified\n",
      "WhoVerified\n",
      "AirTemp (C)\n",
      "Year\n"
     ]
    }
   ],
   "source": [
    "column_headings = dataframe.columns.values\n",
    "print(f'Dataset contains {len(column_headings)} columns and they are:')\n",
    "print(*column_headings, sep='\\n')"
   ]
  },
  {
   "cell_type": "markdown",
   "metadata": {},
   "source": [
    "# 5. code for question-2 (What is the mean Dissolved Oxygen (mg/L) over the entire dataset?)"
   ]
  },
  {
   "cell_type": "code",
   "execution_count": 5,
   "metadata": {},
   "outputs": [
    {
     "name": "stdout",
     "output_type": "stream",
     "text": [
      "Mean Dissolved Oxygen (mg/L) = 6.646263157894744\n"
     ]
    }
   ],
   "source": [
    "print(f\"Mean Dissolved Oxygen (mg/L) = {dataframe.mean(axis=0)['Dissolved Oxygen (mg/L)']}\")"
   ]
  },
  {
   "cell_type": "markdown",
   "metadata": {},
   "source": [
    "# 6. code for question-3 (Which year were the highest number of AirTemp (C) data points collected?)"
   ]
  },
  {
   "cell_type": "code",
   "execution_count": 6,
   "metadata": {},
   "outputs": [
    {
     "name": "stdout",
     "output_type": "stream",
     "text": [
      "      AirTemp (C)\n",
      "Year             \n",
      "1899            5\n",
      "1989           17\n",
      "1990           37\n",
      "1991           43\n",
      "1992           45\n",
      "1993           42\n",
      "1994           38\n",
      "1995           42\n",
      "1996           35\n",
      "1997           31\n",
      "1998           15\n",
      "1999           45\n",
      "2000          109\n",
      "2001          115\n",
      "2002          108\n",
      "2003           98\n",
      "2004          119\n",
      "2005          107\n",
      "2006          118\n",
      "2007          114\n",
      "2008          117\n",
      "2009          120\n",
      "2010          109\n",
      "2011           97\n",
      "2012           88\n",
      "2013           91\n",
      "2014           87\n",
      "2015           88\n",
      "2016           59\n",
      "2017           85\n",
      "2018           82\n",
      "2019           65\n",
      "Year with the highest number of AirTemp (C) data points = 2009\n"
     ]
    }
   ],
   "source": [
    "counts = dataframe[['AirTemp (C)', 'Year']].groupby(by=['Year']).count()\n",
    "print(counts)\n",
    "print(f\"Year with the highest number of AirTemp (C) data points = {counts['AirTemp (C)'].idxmax()}\")"
   ]
  },
  {
   "cell_type": "markdown",
   "metadata": {},
   "source": [
    "# 7. code for question-4 (Which year were the least number of AirTemp (C) data points collected?)"
   ]
  },
  {
   "cell_type": "code",
   "execution_count": 7,
   "metadata": {},
   "outputs": [
    {
     "name": "stdout",
     "output_type": "stream",
     "text": [
      "Year with the least number of AirTemp (C) data points = 1899\n"
     ]
    }
   ],
   "source": [
    "print(f\"Year with the least number of AirTemp (C) data points = {counts['AirTemp (C)'].idxmin()}\")"
   ]
  },
  {
   "cell_type": "markdown",
   "metadata": {},
   "source": [
    "# 8. Which sampling location has the highest mean ppt? What is the equivalent ppm?"
   ]
  },
  {
   "cell_type": "code",
   "execution_count": 8,
   "metadata": {},
   "outputs": [
    {
     "name": "stdout",
     "output_type": "stream",
     "text": [
      "Sampling location with highest mean ppt = Bay\n",
      "1.483153638814015 ppt = 14831.53638814015 ppm\n"
     ]
    }
   ],
   "source": [
    "mean_ppt = dataframe[['Site_Id', 'Salinity (ppt)']].groupby(by=['Site_Id']).mean()\n",
    "print(f\"Sampling location with highest mean ppt = {mean_ppt['Salinity (ppt)'].idxmax()}\")\n",
    "max_value = mean_ppt['Salinity (ppt)'].max()\n",
    "print(f'{max_value} ppt = {max_value * 10000} ppm')"
   ]
  },
  {
   "cell_type": "markdown",
   "metadata": {},
   "source": [
    "# 9. When looking at the mean ppt, which location would you infer is furthest from the influence of ocean water inflows?\n",
    "#    (Assume that higher salinity correlates to closer proximity to the ocean.)"
   ]
  },
  {
   "cell_type": "code",
   "execution_count": 9,
   "metadata": {},
   "outputs": [
    {
     "name": "stdout",
     "output_type": "stream",
     "text": [
      "Location furthest from the influence of ocean water inflows is d\n"
     ]
    }
   ],
   "source": [
    "print(f\"Location furthest from the influence of ocean water inflows is {mean_ppt['Salinity (ppt)'].idxmin()}\")"
   ]
  },
  {
   "cell_type": "markdown",
   "metadata": {},
   "source": [
    "# 10. Dig a little deeper into #2, and write why there may be some uncertainty in your answer?\n",
    "# (hint: certainty is improved by consistency in data)"
   ]
  },
  {
   "cell_type": "code",
   "execution_count": 10,
   "metadata": {},
   "outputs": [
    {
     "name": "stdout",
     "output_type": "stream",
     "text": [
      "         Salinity (ppt)\n",
      "Site_Id                \n",
      "A              0.329517\n",
      "B              0.433765\n",
      "Bay            1.483154\n",
      "C              0.596397\n",
      "D              0.099619\n",
      "d              0.000000\n",
      "In the above means there is a sampling location with lowercase \"d\" (which is not valid).\n",
      "This is due to the sample 2283.\n",
      "The solution is to change the sampling location to uppercase D or remove the sample from the dataset.\n"
     ]
    }
   ],
   "source": [
    "print(mean_ppt)\n",
    "print(f'In the above means there is a sampling location with lowercase \"d\" (which is not valid).\\nThis is due to the sample 2283.\\nThe solution is to change the sampling location to uppercase D or remove the sample from the dataset.')"
   ]
  },
  {
   "cell_type": "markdown",
   "metadata": {},
   "source": [
    "# 11. Use the data to determine the correlation between Salinity (ppt) and pH (standard units)"
   ]
  },
  {
   "cell_type": "code",
   "execution_count": 11,
   "metadata": {},
   "outputs": [
    {
     "name": "stdout",
     "output_type": "stream",
     "text": [
      "Correlation between Salinity (ppt) and pH (standard units):\n",
      "1.000 Salinity (ppt) = 0.296 pH (standard units)\n"
     ]
    }
   ],
   "source": [
    "correlation = dataframe[['Salinity (ppt)','pH (standard units)']].corr()['Salinity (ppt)'].values\n",
    "print(f'Correlation between Salinity (ppt) and pH (standard units):')\n",
    "print(f'{correlation[0]:.3f} Salinity (ppt) = {correlation[1]:.3f} pH (standard units)')"
   ]
  }
 ],
 "metadata": {
  "interpreter": {
   "hash": "1167f70730f696beef26663654dc099aff0b89b026da550fc625a9781f7355df"
  },
  "kernelspec": {
   "display_name": "Python 3",
   "language": "python",
   "name": "python3"
  },
  "language_info": {
   "codemirror_mode": {
    "name": "ipython",
    "version": 3
   },
   "file_extension": ".py",
   "mimetype": "text/x-python",
   "name": "python",
   "nbconvert_exporter": "python",
   "pygments_lexer": "ipython3",
   "version": "3.8.8"
  }
 },
 "nbformat": 4,
 "nbformat_minor": 4
}
